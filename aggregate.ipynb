{
 "cells": [
  {
   "cell_type": "code",
   "execution_count": 1,
   "metadata": {},
   "outputs": [
    {
     "name": "stdout",
     "output_type": "stream",
     "text": [
      "\n",
      "        <tr style=\"height: 19px;\">\n",
      "        <td style=\"height: 19px;\">안창 비프</td>\n",
      "        <td style=\"height: 19px;\">342 Kcal</td>\n",
      "        </tr>\n",
      "        \n",
      "\n",
      "\n",
      "        <tr style=\"height: 19px;\">\n",
      "        <td style=\"height: 19px;\">안창 비프 썹픽</td>\n",
      "        <td style=\"height: 19px;\">475 Kcal</td>\n",
      "        </tr>\n",
      "        \n",
      "\n",
      "\n",
      "        <tr style=\"height: 19px;\">\n",
      "        <td style=\"height: 19px;\">안창 비프&머쉬룸</td>\n",
      "        <td style=\"height: 19px;\">292 Kcal</td>\n",
      "        </tr>\n",
      "        \n",
      "\n",
      "\n",
      "        <tr style=\"height: 19px;\">\n",
      "        <td style=\"height: 19px;\">안창 비프&머쉬룸 썹픽</td>\n",
      "        <td style=\"height: 19px;\">427 Kcal</td>\n",
      "        </tr>\n",
      "        \n",
      "\n",
      "\n",
      "        <tr style=\"height: 19px;\">\n",
      "        <td style=\"height: 19px;\">머쉬룸</td>\n",
      "        <td style=\"height: 19px;\">245 Kcal</td>\n",
      "        </tr>\n",
      "        \n",
      "\n",
      "\n",
      "        <tr style=\"height: 19px;\">\n",
      "        <td style=\"height: 19px;\">머쉬룸 썹픽</td>\n",
      "        <td style=\"height: 19px;\">390 Kcal</td>\n",
      "        </tr>\n",
      "        \n",
      "\n"
     ]
    }
   ],
   "source": [
    "import requests\n",
    "from bs4 import BeautifulSoup\n",
    "\n",
    "urls = [\n",
    "    'https://www.subway.co.kr/menuView/sandwich?menuItemIdx=1483',\n",
    "    'https://www.subway.co.kr/menuView/sandwich?menuItemIdx=1486',\n",
    "    'https://www.subway.co.kr/menuView/sandwich?menuItemIdx=1484',\n",
    "    'https://www.subway.co.kr/menuView/sandwich?menuItemIdx=1487',\n",
    "    'https://www.subway.co.kr/menuView/sandwich?menuItemIdx=1485',\n",
    "    'https://www.subway.co.kr/menuView/sandwich?menuItemIdx=1488'\n",
    "]\n",
    "\n",
    "for url in urls:\n",
    "    temp = requests.get(url)\n",
    "    soup = BeautifulSoup(temp.content, 'html.parser')\n",
    "    \n",
    "    # XPATH: //*[@id=\"content\"]/div/div[1]/h2\n",
    "    # 해당 XPATH는 id가 'content'인 div 안의 h2 요소를 가리키므로 아래와 같이 추출\n",
    "    title = soup.select_one('#content > div > div:nth-of-type(1) > h2')\n",
    "    \n",
    "    if title:\n",
    "        \n",
    "        text = f'''\n",
    "        <tr style=\"height: 19px;\">\n",
    "        <td style=\"height: 19px;\">{title.get_text(strip=True)}</td>\n",
    "        <td style=\"height: 19px;\">{soup.select_one('#content > div > div.hd > p.cal').text}</td>\n",
    "        </tr>\n",
    "        '''\n",
    "        print(text)\n",
    "        print()\n",
    "    else:\n",
    "        print(f\"No title found for {url}\")\n"
   ]
  }
 ],
 "metadata": {
  "kernelspec": {
   "display_name": "Python 3",
   "language": "python",
   "name": "python3"
  },
  "language_info": {
   "codemirror_mode": {
    "name": "ipython",
    "version": 3
   },
   "file_extension": ".py",
   "mimetype": "text/x-python",
   "name": "python",
   "nbconvert_exporter": "python",
   "pygments_lexer": "ipython3",
   "version": "3.10.14"
  }
 },
 "nbformat": 4,
 "nbformat_minor": 2
}
