{
 "cells": [
  {
   "cell_type": "code",
   "execution_count": 1,
   "metadata": {},
   "outputs": [
    {
     "name": "stdout",
     "output_type": "stream",
     "text": [
      "\n",
      "        <tr style=\"height: 19px;\">\n",
      "        <td style=\"height: 19px;\">안창 비프</td>\n",
      "        <td style=\"height: 19px;\">342 Kcal</td>\n",
      "        </tr>\n",
      "        \n",
      "\n",
      "\n",
      "        <tr style=\"height: 19px;\">\n",
      "        <td style=\"height: 19px;\">안창 비프 썹픽</td>\n",
      "        <td style=\"height: 19px;\">475 Kcal</td>\n",
      "        </tr>\n",
      "        \n",
      "\n",
      "\n",
      "        <tr style=\"height: 19px;\">\n",
      "        <td style=\"height: 19px;\">안창 비프&머쉬룸</td>\n",
      "        <td style=\"height: 19px;\">292 Kcal</td>\n",
      "        </tr>\n",
      "        \n",
      "\n",
      "\n",
      "        <tr style=\"height: 19px;\">\n",
      "        <td style=\"height: 19px;\">안창 비프&머쉬룸 썹픽</td>\n",
      "        <td style=\"height: 19px;\">427 Kcal</td>\n",
      "        </tr>\n",
      "        \n",
      "\n",
      "\n",
      "        <tr style=\"height: 19px;\">\n",
      "        <td style=\"height: 19px;\">머쉬룸</td>\n",
      "        <td style=\"height: 19px;\">245 Kcal</td>\n",
      "        </tr>\n",
      "        \n",
      "\n",
      "\n",
      "        <tr style=\"height: 19px;\">\n",
      "        <td style=\"height: 19px;\">머쉬룸 썹픽</td>\n",
      "        <td style=\"height: 19px;\">390 Kcal</td>\n",
      "        </tr>\n",
      "        \n",
      "\n"
     ]
    }
   ],
   "source": [
    "import requests\n",
    "from bs4 import BeautifulSoup\n",
    "\n",
    "urls = [\n",
    "    'https://www.subway.co.kr/menuView/sandwich?menuItemIdx=1483',\n",
    "    'https://www.subway.co.kr/menuView/sandwich?menuItemIdx=1486',\n",
    "    'https://www.subway.co.kr/menuView/sandwich?menuItemIdx=1484',\n",
    "    'https://www.subway.co.kr/menuView/sandwich?menuItemIdx=1487',\n",
    "    'https://www.subway.co.kr/menuView/sandwich?menuItemIdx=1485',\n",
    "    'https://www.subway.co.kr/menuView/sandwich?menuItemIdx=1488'\n",
    "]\n",
    "\n",
    "for url in urls:\n",
    "    temp = requests.get(url)\n",
    "    soup = BeautifulSoup(temp.content, 'html.parser')\n",
    "    \n",
    "    # XPATH: //*[@id=\"content\"]/div/div[1]/h2\n",
    "    # 해당 XPATH는 id가 'content'인 div 안의 h2 요소를 가리키므로 아래와 같이 추출\n",
    "    title = soup.select_one('#content > div > div:nth-of-type(1) > h2')\n",
    "    \n",
    "    if title:\n",
    "        \n",
    "        text = f'''\n",
    "        <tr style=\"height: 19px;\">\n",
    "        <td style=\"height: 19px;\">{title.get_text(strip=True)}</td>\n",
    "        <td style=\"height: 19px;\">{soup.select_one('#content > div > div.hd > p.cal').text}</td>\n",
    "        </tr>\n",
    "        '''\n",
    "        print(text)\n",
    "        print()\n",
    "    else:\n",
    "        print(f\"No title found for {url}\")\n"
   ]
  },
  {
   "cell_type": "code",
   "execution_count": 18,
   "metadata": {},
   "outputs": [],
   "source": [
    "import requests\n",
    "from bs4 import BeautifulSoup\n",
    "\n",
    "for idx in range(58,59):\n",
    "    temp = requests.get(f'https://salady.com/menu/view_1?idx={idx}&ca_id=0401')\n",
    "    soup = BeautifulSoup(temp.content, 'html.parser')\n",
    "    \n",
    "    # CSS 선택자로 원하는 tr 요소 선택\n",
    "    content = soup.select('#content > div.view.type_1 > div.ingredient > div.ing_table > table > tbody > tr:nth-child(2)')\n",
    "    \n",
    "    # 추출한 내용 출력\n",
    "    for row in content:\n",
    "        print(row.get_text(strip=True))  # tr 요소의 텍스트만 출력 (공백 제거)\n"
   ]
  },
  {
   "cell_type": "markdown",
   "metadata": {},
   "source": [
    "sand - https://salady.com/menu/view_1?idx=50&ca_id=0401 -> 50~53"
   ]
  },
  {
   "cell_type": "code",
   "execution_count": 23,
   "metadata": {},
   "outputs": [
    {
     "name": "stdout",
     "output_type": "stream",
     "text": [
      "https://salady.com/menu/view_1?idx=39&ca_id=01\n",
      "https://salady.com/menu/view_1?idx=40&ca_id=01\n",
      "https://salady.com/menu/view_1?idx=41&ca_id=01\n"
     ]
    }
   ],
   "source": [
    "import requests\n",
    "from bs4 import BeautifulSoup\n",
    "\n",
    "# 영양성분 데이터를 저장할 딕셔너리\n",
    "nutrition_data = {}\n",
    "\n",
    "for idx in range(39,42):\n",
    "    url = f'https://salady.com/menu/view_1?idx={idx}&ca_id=01'  # 실제 페이지 URL\n",
    "    print(url)\n",
    "    response = requests.get(url)\n",
    "    soup = BeautifulSoup(response.content, 'html.parser')\n",
    "\n",
    "    # 영양성분표 위치에 있는 테이블을 CSS 선택자로 가져오기\n",
    "    nutrition_table = soup.select_one('div.ingredient > div.ing_table > table')\n",
    "\n",
    "    \n",
    "\n",
    "    # 테이블 데이터 파싱\n",
    "    if nutrition_table:\n",
    "        # 첫 번째 행(th 요소들)을 이용해 영양 성분 항목 추출\n",
    "        headers = [header.get_text(strip=True) for header in nutrition_table.find_all('th')]\n",
    "\n",
    "        # 두 번째 행부터 데이터 추출\n",
    "        rows = nutrition_table.find_all('tr')[1:]  # 첫 행은 헤더이므로 제외\n",
    "        for row in rows:\n",
    "            cols = row.find_all('td')\n",
    "            menu_name = cols[0].get_text(strip=True)  # 메뉴명\n",
    "            nutrition_values = [col.get_text(strip=True) for col in cols[1:]]\n",
    "            \n",
    "            # 메뉴명을 키로 하고, 영양성분 항목과 값을 매핑한 딕셔너리로 저장\n",
    "            nutrition_data[menu_name] = dict(zip(headers[1:], nutrition_values))  # 첫 번째 헤더는 메뉴명이므로 제외\n",
    "\n",
    "    else:\n",
    "        print(\"영양성분표를 찾을 수 없습니다.\")\n",
    "\n"
   ]
  },
  {
   "cell_type": "code",
   "execution_count": 24,
   "metadata": {},
   "outputs": [
    {
     "data": {
      "text/plain": [
       "{'우삼겹메밀면 샐러디': {'열량(kcal)': '300.8',\n",
       "  '탄수화물(g)': '34.9',\n",
       "  '당류(g)': '4.8',\n",
       "  '단백질(g)': '18.8',\n",
       "  '지방(g)': '10.4',\n",
       "  '포화지방(g)': '1.1',\n",
       "  '나트륨(mg)': '419.8'},\n",
       " '단호박두부 샐러디': {'열량(kcal)': '236.5',\n",
       "  '탄수화물(g)': '31.3',\n",
       "  '당류(g)': '11.9',\n",
       "  '단백질(g)': '7',\n",
       "  '지방(g)': '9.8',\n",
       "  '포화지방(g)': '1',\n",
       "  '나트륨(mg)': '317.5'},\n",
       " '콥 샐러디': {'열량(kcal)': '220.7',\n",
       "  '탄수화물(g)': '9.1',\n",
       "  '당류(g)': '2.5',\n",
       "  '단백질(g)': '18.9',\n",
       "  '지방(g)': '12.3',\n",
       "  '포화지방(g)': '3.9',\n",
       "  '나트륨(mg)': '475.7'}}"
      ]
     },
     "execution_count": 24,
     "metadata": {},
     "output_type": "execute_result"
    }
   ],
   "source": [
    "nutrition_data"
   ]
  },
  {
   "cell_type": "code",
   "execution_count": null,
   "metadata": {},
   "outputs": [],
   "source": [
    "import requests\n",
    "from bs4 import BeautifulSoup\n",
    "\n",
    "# 페이지 요청\n",
    "url = 'https://salady.com/menu/view_1?idx=58&ca_id=0403'  # 실제 페이지 URL\n",
    "response = requests.get(url)\n",
    "soup = BeautifulSoup(response.content, 'html.parser')\n",
    "\n",
    "# 영양성분표 위치에 있는 테이블을 CSS 선택자로 가져오기\n",
    "nutrition_table = soup.select_one('div.ingredient > div.ing_table > table')\n",
    "\n",
    "# 영양성분 데이터를 저장할 딕셔너리\n",
    "nutrition_data = {}\n",
    "\n",
    "# 테이블 데이터 파싱\n",
    "if nutrition_table:\n",
    "    # 첫 번째 행(th 요소들)을 이용해 영양 성분 항목 추출\n",
    "    headers = [header.get_text(strip=True) for header in nutrition_table.find_all('th')]\n",
    "\n",
    "    # 두 번째 행부터 데이터 추출\n",
    "    rows = nutrition_table.find_all('tr')[1:]  # 첫 행은 헤더이므로 제외\n",
    "    for row in rows:\n",
    "        cols = row.find_all('td')\n",
    "        menu_name = cols[0].get_text(strip=True)  # 메뉴명\n",
    "        nutrition_values = [col.get_text(strip=True) for col in cols[1:]]\n",
    "        \n",
    "        # 메뉴명을 키로 하고, 영양성분 항목과 값을 매핑한 딕셔너리로 저장\n",
    "        nutrition_data[menu_name] = dict(zip(headers[1:], nutrition_values))  # 첫 번째 헤더는 메뉴명이므로 제외\n",
    "\n",
    "    print(nutrition_data)\n",
    "else:\n",
    "    print(\"영양성분표를 찾을 수 없습니다.\")\n"
   ]
  },
  {
   "cell_type": "code",
   "execution_count": 3,
   "metadata": {},
   "outputs": [],
   "source": [
    "from api import nutrition_data_salady as salady\n",
    "\n",
    "data = salady.salady_nutritions"
   ]
  },
  {
   "cell_type": "code",
   "execution_count": 14,
   "metadata": {},
   "outputs": [
    {
     "name": "stdout",
     "output_type": "stream",
     "text": [
      "'양송이 크림스프' : {'열량(kcal)': '123.8', '탄수화물(g)': '8.8', '당류(g)': '3.8', '단백질(g)': '2.5', '지방(g)': '8.8', '포화지방(g)': '8.8', '나트륨(mg)': '588.8'},\n",
      "'콘치즈 스프' : {'열량(kcal)': '188.7', '탄수화물(g)': '21.1', '당류(g)': '13.3', '단백질(g)': '3.3', '지방(g)': '10.0', '포화지방(g)': '5.6', '나트륨(mg)': '555.1'},\n",
      "'단호박 크림스프' : {'열량(kcal)': '218.8', '탄수화물(g)': '21.3', '당류(g)': '15.0', '단백질(g)': '2.5', '지방(g)': '13.8', '포화지방(g)': '10.0', '나트륨(mg)': '325.0'},\n",
      "'치킨토마토 스튜' : {'열량(kcal)': '124.0', '탄수화물(g)': '12.6', '당류(g)': '9.6', '단백질(g)': '14.0', '지방(g)': '1.8', '포화지방(g)': '0.4', '나트륨(mg)': '713.2'},\n",
      "'아메리카노' : {'열량(kcal)': '22.5', '탄수화물(g)': '2.4', '당류(g)': '0.0', '단백질(g)': '1.8', '지방(g)': '0.5', '포화지방(g)': '0.0', '나트륨(mg)': '24.3'},\n",
      "'그린밀싹' : {'열량(kcal)': '120.0', '탄수화물(g)': '28.0', '당류(g)': '22.0', '단백질(g)': '1.0', '지방(g)': '0.0', '포화지방(g)': '0.0', '나트륨(mg)': '39.0'},\n",
      "'오렌지당근' : {'열량(kcal)': '113.0', '탄수화물(g)': '27.0', '당류(g)': '23.0', '단백질(g)': '1.0', '지방(g)': '0.0', '포화지방(g)': '0.0', '나트륨(mg)': '43.0'},\n",
      "'레드클렌즈' : {'열량(kcal)': '120.0', '탄수화물(g)': '29.0', '당류(g)': '24.0', '단백질(g)': '1.2', '지방(g)': '0.0', '포화지방(g)': '0.0', '나트륨(mg)': '43.0'},\n",
      "'케일바나나' : {'열량(kcal)': '119.0', '탄수화물(g)': '19.0', '당류(g)': '10.0', '단백질(g)': '3.0', '지방(g)': '5.0', '포화지방(g)': '1.0', '나트륨(mg)': '23.0'},\n",
      "'오렌지망고' : {'열량(kcal)': '105.0', '탄수화물(g)': '23.0', '당류(g)': '20.0', '단백질(g)': '2.0', '지방(g)': '0.7', '포화지방(g)': '0.0', '나트륨(mg)': '0.0'},\n",
      "'루이보스시나몬' : {'열량(kcal)': '4.0', '탄수화물(g)': '0.0', '당류(g)': '0.0', '단백질(g)': '0.0', '지방(g)': '0.0', '포화지방(g)': '0.0', '나트륨(mg)': '0.0'},\n",
      "'캐모마일레몬그라스' : {'열량(kcal)': '2.0', '탄수화물(g)': '0.0', '당류(g)': '0.0', '단백질(g)': '0.0', '지방(g)': '0.0', '포화지방(g)': '0.0', '나트륨(mg)': '0.0'},\n",
      "'닭가슴살' : {'열량(kcal)': '60.8', '탄수화물(g)': '1.1', '당류(g)': '0.3', '단백질(g)': '12.5', '지방(g)': '0.7', '포화지방(g)': '0.3', '나트륨(mg)': '88.3'},\n",
      "'그라브락스 연어' : {'열량(kcal)': '99.1', '탄수화물(g)': '1.4', '당류(g)': '0.4', '단백질(g)': '12.8', '지방(g)': '4.7', '포화지방(g)': '0.5', '나트륨(mg)': '346.6'},\n",
      "'로스트닭다리살' : {'열량(kcal)': '120.0', '탄수화물(g)': '6.0', '당류(g)': '1.2', '단백질(g)': '9.0', '지방(g)': '6.6', '포화지방(g)': '3.6', '나트륨(mg)': '324.0'},\n",
      "'머쉬룸' : {'열량(kcal)': '59.1', '탄수화물(g)': '3.3', '당류(g)': '0.4', '단백질(g)': '1.5', '지방(g)': '5.6', '포화지방(g)': '0.9', '나트륨(mg)': '1.1'},\n",
      "'메밀면' : {'열량(kcal)': '122.3', '탄수화물(g)': '22.2', '당류(g)': '0.0', '단백질(g)': '4.6', '지방(g)': '1.6', '포화지방(g)': '0.3', '나트륨(mg)': '158.8'},\n",
      "'그라운드비프' : {'열량(kcal)': '108.0', '탄수화물(g)': '0.0', '당류(g)': '0.0', '단백질(g)': '10.2', '지방(g)': '7.2', '포화지방(g)': '2.9', '나트륨(mg)': '38.4'},\n",
      "'우삼겹' : {'열량(kcal)': '60.9', '탄수화물(g)': '3.1', '당류(g)': '2.0', '단백질(g)': '9.5', '지방(g)': '0.9', '포화지방(g)': '0.0', '나트륨(mg)': '177.1'},\n",
      "'베이컨' : {'열량(kcal)': '66.3', '탄수화물(g)': '0.7', '당류(g)': '0.4', '단백질(g)': '3.0', '지방(g)': '5.7', '포화지방(g)': '2.1', '나트륨(mg)': '105.6'},\n",
      "'두부' : {'열량(kcal)': '100.0', '탄수화물(g)': '8.0', '당류(g)': '1.2', '단백질(g)': '4.2', '지방(g)': '5.7', '포화지방(g)': '0.7', '나트륨(mg)': '12.8'},\n",
      "'바질파스타' : {'열량(kcal)': '178.6', '탄수화물(g)': '21.2', '당류(g)': '1.2', '단백질(g)': '5.4', '지방(g)': '7.4', '포화지방(g)': '1.3', '나트륨(mg)': '109.9'},\n",
      "'에그' : {'열량(kcal)': '72.5', '탄수화물(g)': '0.7', '당류(g)': '0.1', '단백질(g)': '6.7', '지방(g)': '4.3', '포화지방(g)': '1.4', '나트륨(mg)': '64.0'},\n",
      "'에그마요' : {'열량(kcal)': '122.5', '탄수화물(g)': '2.5', '당류(g)': '0.0', '단백질(g)': '4.5', '지방(g)': '10.5', '포화지방(g)': '2.1', '나트륨(mg)': '140.0'},\n",
      "'스윗포테이토' : {'열량(kcal)': '126.0', '탄수화물(g)': '17.5', '당류(g)': '9.1', '단백질(g)': '1.4', '지방(g)': '5.6', '포화지방(g)': '1.0', '나트륨(mg)': '98.0'},\n",
      "'단호박' : {'열량(kcal)': '58.6', '탄수화물(g)': '12.5', '당류(g)': '7.0', '단백질(g)': '0.7', '지방(g)': '0.4', '포화지방(g)': '0.1', '나트륨(mg)': '0.1'},\n",
      "'크랜베리' : {'열량(kcal)': '31.4', '탄수화물(g)': '8.6', '당류(g)': '7.4', '단백질(g)': '0.0', '지방(g)': '0.1', '포화지방(g)': '0.0', '나트륨(mg)': '0.2'},\n",
      "'옥수수' : {'열량(kcal)': '19.5', '탄수화물(g)': '3.6', '당류(g)': '2.1', '단백질(g)': '0.6', '지방(g)': '0.3', '포화지방(g)': '0.0', '나트륨(mg)': '78.0'},\n",
      "'당근라페' : {'열량(kcal)': '25.6', '탄수화물(g)': '2.6', '당류(g)': '1.3', '단백질(g)': '0.2', '지방(g)': '1.8', '포화지방(g)': '0.0', '나트륨(mg)': '12.8'},\n",
      "'양파' : {'열량(kcal)': '8.7', '탄수화물(g)': '2.0', '당류(g)': '1.7', '단백질(g)': '0.3', '지방(g)': '0.0', '포화지방(g)': '0.0', '나트륨(mg)': '0.9'},\n",
      "'양파플레이크' : {'열량(kcal)': '55.1', '탄수화물(g)': '5.5', '당류(g)': '1.1', '단백질(g)': '0.4', '지방(g)': '3.5', '포화지방(g)': '1.7', '나트륨(mg)': '5.0'},\n",
      "'토마토' : {'열량(kcal)': '7.6', '탄수화물(g)': '1.7', '당류(g)': '0.9', '단백질(g)': '0.4', '지방(g)': '0.1', '포화지방(g)': '0.0', '나트륨(mg)': '0.8'},\n",
      "'채소볼' : {'열량(kcal)': '17.0', '탄수화물(g)': '3.6', '당류(g)': '0.3', '단백질(g)': '1.1', '지방(g)': '0.2', '포화지방(g)': '0.0', '나트륨(mg)': '81.8'},\n",
      "'나쵸칩' : {'열량(kcal)': '75.0', '탄수화물(g)': '9.2', '당류(g)': '0.0', '단백질(g)': '1.1', '지방(g)': '3.8', '포화지방(g)': '0.3', '나트륨(mg)': '34.5'},\n",
      "'곡물볼' : {'열량(kcal)': '269.3', '탄수화물(g)': '47.0', '당류(g)': '0.5', '단백질(g)': '7.2', '지방(g)': '6.2', '포화지방(g)': '1.1', '나트륨(mg)': '42.6'},\n",
      "'올리브' : {'열량(kcal)': '31.5', '탄수화물(g)': '1.8', '당류(g)': '0.0', '단백질(g)': '0.3', '지방(g)': '2.9', '포화지방(g)': '0.4', '나트륨(mg)': '264.0'},\n",
      "'베이스 변경 시*' : {'열량(kcal)': '252.3', '탄수화물(g)': '43.3', '당류(g)': '0.3', '단백질(g)': '6.1', '지방(g)': '6.0', '포화지방(g)': '1.1', '나트륨(mg)': '-39.3'},\n",
      "'견과류' : {'열량(kcal)': '89.1', '탄수화물(g)': '3.3', '당류(g)': '0.5', '단백질(g)': '3.1', '지방(g)': '7.7', '포화지방(g)': '0.7', '나트륨(mg)': '0.5'},\n",
      "'사워크림' : {'열량(kcal)': '23.2', '탄수화물(g)': '0.5', '당류(g)': '0.3', '단백질(g)': '0.3', '지방(g)': '2.2', '포화지방(g)': '1.4', '나트륨(mg)': '4.0'},\n",
      "'크리미칠리' : {'열량(kcal)': '235.0', '탄수화물(g)': '14.0', '당류(g)': '11.0', '단백질(g)': '0.0', '지방(g)': '20.0', '포화지방(g)': '3.2', '나트륨(mg)': '410.0'},\n",
      "'할라피뇨' : {'열량(kcal)': '6.7', '탄수화물(g)': '1.3', '당류(g)': '0.0', '단백질(g)': '0.0', '지방(g)': '0.0', '포화지방(g)': '0.0', '나트륨(mg)': '293.2'},\n",
      "'크리미할라피뇨' : {'열량(kcal)': '235.0', '탄수화물(g)': '7.0', '당류(g)': '7.0', '단백질(g)': '1.0', '지방(g)': '23.0', '포화지방(g)': '3.6', '나트륨(mg)': '320.0'},\n",
      "'오이' : {'열량(kcal)': '2.8', '탄수화물(g)': '0.6', '당류(g)': '0.3', '단백질(g)': '0.2', '지방(g)': '0.0', '포화지방(g)': '0.0', '나트륨(mg)': '0.6'},\n",
      "'오리엔탈' : {'열량(kcal)': '160.0', '탄수화물(g)': '8.0', '당류(g)': '7.0', '단백질(g)': '1.0', '지방(g)': '14.0', '포화지방(g)': '2.2', '나트륨(mg)': '280.0'},\n",
      "'바질페스토' : {'열량(kcal)': '119.0', '탄수화물(g)': '0.5', '당류(g)': '1.8', '단백질(g)': '2.8', '지방(g)': '10.7', '포화지방(g)': '2.0', '나트륨(mg)': '171.0'},\n",
      "'시저' : {'열량(kcal)': '240.0', '탄수화물(g)': '5.0', '당류(g)': '4.0', '단백질(g)': '1.0', '지방(g)': '24.0', '포화지방(g)': '3.9', '나트륨(mg)': '290.0'},\n",
      "'모짜렐라 슬라이스' : {'열량(kcal)': '65.0', '탄수화물(g)': '0.0', '당류(g)': '0.0', '단백질(g)': '6.3', '지방(g)': '4.5', '포화지방(g)': '2.3', '나트륨(mg)': '137.5'},\n",
      "'발사믹' : {'열량(kcal)': '135.0', '탄수화물(g)': '16.0', '당류(g)': '16.0', '단백질(g)': '0.0', '지방(g)': '8.0', '포화지방(g)': '1.2', '나트륨(mg)': '140.0'},\n",
      "'레몬' : {'열량(kcal)': '175.0', '탄수화물(g)': '14.0', '당류(g)': '14.0', '단백질(g)': '0.0', '지방(g)': '13.0', '포화지방(g)': '1.9', '나트륨(mg)': '190.0'},\n",
      "'타바스코 오리엔탈' : {'열량(kcal)': '140.0', '탄수화물(g)': '12.0', '당류(g)': '12.0', '단백질(g)': '1.0', '지방(g)': '10.0', '포화지방(g)': '1.5', '나트륨(mg)': '600.0'},\n"
     ]
    }
   ],
   "source": [
    "\n",
    "\n",
    "for k, v in data.items():\n",
    "    if '샐러디' not in k and '샌드' not in k  and '랩' not in k  and '웜볼' not in k  and '박스' not in k:\n",
    "        print(f\"'{k}' : {data[k]},\")"
   ]
  },
  {
   "cell_type": "code",
   "execution_count": 16,
   "metadata": {},
   "outputs": [
    {
     "data": {
      "text/plain": [
       "36"
      ]
     },
     "execution_count": 16,
     "metadata": {},
     "output_type": "execute_result"
    }
   ],
   "source": [
    "from api.nutrition_salady import top_dressing\n",
    "\n",
    "len(top_dressing.items())"
   ]
  },
  {
   "cell_type": "code",
   "execution_count": 2,
   "metadata": {},
   "outputs": [
    {
     "data": {
      "text/plain": [
       "{'원재료 용량(g)': '340',\n",
       " '열량(kcal)': '464.59',\n",
       " '나트륨(mg)': '698.87',\n",
       " '탄수화물(g)': '67.8',\n",
       " '당류(g)': '8.1',\n",
       " '단백질(g)': '14.36',\n",
       " '지방(g)': '15.13',\n",
       " '콜레스테롤(mg)': '2.25',\n",
       " '포화지방(g)': '3.93',\n",
       " '트랜스지방(g)': '0'}"
      ]
     },
     "execution_count": 2,
     "metadata": {},
     "output_type": "execute_result"
    }
   ],
   "source": [
    "from api.nutrition_poke import base_nutrition\n",
    "\n",
    "base_nutrition['곡물밥 POKE']"
   ]
  }
 ],
 "metadata": {
  "kernelspec": {
   "display_name": "mj_test",
   "language": "python",
   "name": "python3"
  },
  "language_info": {
   "codemirror_mode": {
    "name": "ipython",
    "version": 3
   },
   "file_extension": ".py",
   "mimetype": "text/x-python",
   "name": "python",
   "nbconvert_exporter": "python",
   "pygments_lexer": "ipython3",
   "version": "3.10.14"
  }
 },
 "nbformat": 4,
 "nbformat_minor": 2
}
