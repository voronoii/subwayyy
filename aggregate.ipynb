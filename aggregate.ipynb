{
 "cells": [
  {
   "cell_type": "markdown",
   "metadata": {},
   "source": [
    "### sub menu -> nutritions"
   ]
  },
  {
   "cell_type": "code",
   "execution_count": 31,
   "metadata": {},
   "outputs": [
    {
     "name": "stdout",
     "output_type": "stream",
     "text": [
      "안창 비프\n",
      "안창 비프 썹픽\n",
      "안창 비프&머쉬룸\n",
      "안창 비프&머쉬룸 썹픽\n",
      "머쉬룸\n",
      "머쉬룸 썹픽\n",
      "터키 베이컨 아보카도\n",
      "써브웨이 클럽\n",
      "터키\n",
      "에그 슬라이스\n",
      "이탈리안 비엠티 썹픽\n",
      "스테이크&치즈 썹픽\n",
      "로티세리 바비큐 치킨 썹픽\n",
      "스테이크 & 치즈\n",
      "스파이시 쉬림프\n",
      "쉬림프\n",
      "로스트 치킨\n",
      "로티세리 바비큐 치킨\n",
      "K-바비큐\n",
      "풀드 포크 바비큐\n",
      "치킨 데리야끼\n",
      "스파이시 이탈리안\n",
      "이탈리안 비엠티\n",
      "비엘티\n",
      "참치\n",
      "햄\n",
      "에그마요\n",
      "베지\n",
      "Title not found for URL: https://www.subway.co.kr/menuView/sandwich?menuItemIdx=1471\n",
      "Title not found for URL: https://www.subway.co.kr/menuView/sandwich?menuItemIdx=1383\n",
      "Title not found for URL: https://www.subway.co.kr/menuView/sandwich?menuItemIdx=1385\n",
      "Title not found for URL: https://www.subway.co.kr/menuView/sandwich?menuItemIdx=1386\n",
      "Title not found for URL: https://www.subway.co.kr/menuView/sandwich?menuItemIdx=1387\n",
      "Title not found for URL: https://www.subway.co.kr/menuView/sandwich?menuItemIdx=1388\n",
      "Title not found for URL: https://www.subway.co.kr/menuView/sandwich?menuItemIdx=1389\n",
      "Title not found for URL: https://www.subway.co.kr/menuView/sandwich?menuItemIdx=1390\n",
      "\"안창 비프\" : {'중량 (g)': 235.0, '열량 (kcal)': 342.0, '단백질 (g)': 21.6, '포화지방 (g)': 4.3, '당류 (g)': 8.3, '나트륨 (mg)': 830.0},\n",
      "\"안창 비프 썹픽\" : {'중량 (g)': 265.0, '열량 (kcal)': 475.0, '단백질 (g)': 22.6, '포화지방 (g)': 7.4, '당류 (g)': 10.0, '나트륨 (mg)': 1144.0},\n",
      "\"안창 비프&머쉬룸\" : {'중량 (g)': 235.0, '열량 (kcal)': 292.0, '단백질 (g)': 16.5, '포화지방 (g)': 2.5, '당류 (g)': 8.0, '나트륨 (mg)': 598.0},\n",
      "\"안창 비프&머쉬룸 썹픽\" : {'중량 (g)': 265.0, '열량 (kcal)': 427.0, '단백질 (g)': 19.0, '포화지방 (g)': 5.7, '당류 (g)': 11.8, '나트륨 (mg)': 967.0},\n",
      "\"머쉬룸\" : {'중량 (g)': 235.0, '열량 (kcal)': 245.0, '단백질 (g)': 11.8, '포화지방 (g)': 0.6, '당류 (g)': 7.7, '나트륨 (mg)': 376.0},\n",
      "\"머쉬룸 썹픽\" : {'중량 (g)': 251.0, '열량 (kcal)': 390.0, '단백질 (g)': 13.8, '포화지방 (g)': 3.8, '당류 (g)': 7.2, '나트륨 (mg)': 909.0},\n",
      "\"터키 베이컨 아보카도\" : {'중량 (g)': 246.0, '열량 (kcal)': 355.0, '단백질 (g)': 20.2, '포화지방 (g)': 3.2, '당류 (g)': 9.0, '나트륨 (mg)': 940.0},\n",
      "\"써브웨이 클럽\" : {'중량 (g)': 216.0, '열량 (kcal)': 299.0, '단백질 (g)': 19.8, '포화지방 (g)': 2.4, '당류 (g)': 8.53, '나트륨 (mg)': 853.0},\n",
      "\"터키\" : {'중량 (g)': 221.0, '열량 (kcal)': 265.0, '단백질 (g)': 18.6, '포화지방 (g)': 0.9, '당류 (g)': 8.7, '나트륨 (mg)': 751.0},\n",
      "\"에그 슬라이스\" : {'중량 (g)': 214.0, '열량 (kcal)': 279.0, '단백질 (g)': 15.2, '포화지방 (g)': 2.3, '당류 (g)': 7.6, '나트륨 (mg)': 447.0},\n",
      "\"이탈리안 비엠티 썹픽\" : {'중량 (g)': 278.0, '열량 (kcal)': 548.0, '단백질 (g)': 22.0, '포화지방 (g)': 9.3, '당류 (g)': 10.4, '나트륨 (mg)': 1600.0},\n",
      "\"스테이크&치즈 썹픽\" : {'중량 (g)': 277.0, '열량 (kcal)': 507.0, '단백질 (g)': 26.2, '포화지방 (g)': 6.4, '당류 (g)': 7.1, '나트륨 (mg)': 1094.0},\n",
      "\"로티세리 바비큐 치킨 썹픽\" : {'중량 (g)': 273.0, '열량 (kcal)': 463.0, '단백질 (g)': 28.9, '포화지방 (g)': 5.6, '당류 (g)': 9.6, '나트륨 (mg)': 961.0},\n",
      "\"스테이크 & 치즈\" : {'중량 (g)': 245.0, '열량 (kcal)': 355.0, '단백질 (g)': 28.1, '포화지방 (g)': 4.2, '당류 (g)': 8.8, '나트륨 (mg)': 780.0},\n",
      "\"스파이시 쉬림프\" : {'중량 (g)': 213.0, '열량 (kcal)': 245.0, '단백질 (g)': 16.5, '포화지방 (g)': 0.9, '당류 (g)': 9.1, '나트륨 (mg)': 570.0},\n",
      "\"쉬림프\" : {'중량 (g)': 209.0, '열량 (kcal)': 241.0, '단백질 (g)': 16.3, '포화지방 (g)': 0.6, '당류 (g)': 7.9, '나트륨 (mg)': 415.0},\n",
      "\"로스트 치킨\" : {'중량 (g)': 237.0, '열량 (kcal)': 300.0, '단백질 (g)': 26.0, '포화지방 (g)': 1.3, '당류 (g)': 8.7, '나트륨 (mg)': 605.0},\n",
      "\"로티세리 바비큐 치킨\" : {'중량 (g)': 249.0, '열량 (kcal)': 327.0, '단백질 (g)': 29.1, '포화지방 (g)': 2.5, '당류 (g)': 7.8, '나트륨 (mg)': 542.0},\n",
      "\"K-바비큐\" : {'중량 (g)': 256.0, '열량 (kcal)': 372.0, '단백질 (g)': 25.6, '포화지방 (g)': 2.1, '당류 (g)': 14.7, '나트륨 (mg)': 899.0},\n",
      "\"풀드 포크 바비큐\" : {'중량 (g)': 235.0, '열량 (kcal)': 327.0, '단백질 (g)': 24.8, '포화지방 (g)': 2.1, '당류 (g)': 7.8, '나트륨 (mg)': 689.0},\n",
      "\"치킨 데리야끼\" : {'중량 (g)': 255.0, '열량 (kcal)': 314.0, '단백질 (g)': 26.5, '포화지방 (g)': 1.2, '당류 (g)': 10.1, '나트륨 (mg)': 698.0},\n",
      "\"스파이시 이탈리안\" : {'중량 (g)': 224.0, '열량 (kcal)': 464.0, '단백질 (g)': 20.7, '포화지방 (g)': 9.1, '당류 (g)': 8.7, '나트륨 (mg)': 1250.0},\n",
      "\"이탈리안 비엠티\" : {'중량 (g)': 228.0, '열량 (kcal)': 388.0, '단백질 (g)': 21.0, '포화지방 (g)': 5.9, '당류 (g)': 8.6, '나트륨 (mg)': 1064.0},\n",
      "\"비엘티\" : {'중량 (g)': 182.0, '열량 (kcal)': 300.0, '단백질 (g)': 15.9, '포화지방 (g)': 3.7, '당류 (g)': 7.9, '나트륨 (mg)': 666.0},\n",
      "\"참치\" : {'중량 (g)': 238.0, '열량 (kcal)': 316.0, '단백질 (g)': 26.9, '포화지방 (g)': 1.4, '당류 (g)': 7.6, '나트륨 (mg)': 535.0},\n",
      "\"햄\" : {'중량 (g)': 220.0, '열량 (kcal)': 262.0, '단백질 (g)': 19.0, '포화지방 (g)': 1.0, '당류 (g)': 8.4, '나트륨 (mg)': 680.0},\n",
      "\"에그마요\" : {'중량 (g)': 238.0, '열량 (kcal)': 416.0, '단백질 (g)': 16.4, '포화지방 (g)': 4.8, '당류 (g)': 7.7, '나트륨 (mg)': 554.0},\n",
      "\"베지\" : {'중량 (g)': 164.0, '열량 (kcal)': 209.0, '단백질 (g)': 9.2, '포화지방 (g)': 0.6, '당류 (g)': 7.6, '나트륨 (mg)': 262.0},\n"
     ]
    }
   ],
   "source": [
    "import requests\n",
    "from bs4 import BeautifulSoup\n",
    "import re\n",
    "# URL 리스트\n",
    "urls = ['https://www.subway.co.kr/menuView/sandwich?menuItemIdx=1483',\n",
    "'https://www.subway.co.kr/menuView/sandwich?menuItemIdx=1486',\n",
    "'https://www.subway.co.kr/menuView/sandwich?menuItemIdx=1484',\n",
    "'https://www.subway.co.kr/menuView/sandwich?menuItemIdx=1487',\n",
    "'https://www.subway.co.kr/menuView/sandwich?menuItemIdx=1485',\n",
    "'https://www.subway.co.kr/menuView/sandwich?menuItemIdx=1488',\n",
    "'https://www.subway.co.kr/menuView/sandwich?menuItemIdx=1492',\n",
    "'https://www.subway.co.kr/menuView/sandwich?menuItemIdx=1494',\n",
    "'https://www.subway.co.kr/menuView/sandwich?menuItemIdx=1493',\n",
    "'https://www.subway.co.kr/menuView/sandwich?menuItemIdx=1469',\n",
    "'https://www.subway.co.kr/menuView/sandwich?menuItemIdx=1467',\n",
    "'https://www.subway.co.kr/menuView/sandwich?menuItemIdx=1468',\n",
    "'https://www.subway.co.kr/menuView/sandwich?menuItemIdx=1466',\n",
    "'https://www.subway.co.kr/menuView/sandwich?menuItemIdx=1391',\n",
    "'https://www.subway.co.kr/menuView/sandwich?menuItemIdx=1460',\n",
    "'https://www.subway.co.kr/menuView/sandwich?menuItemIdx=1392',\n",
    "'https://www.subway.co.kr/menuView/sandwich?menuItemIdx=1401',\n",
    "'https://www.subway.co.kr/menuView/sandwich?menuItemIdx=1406',\n",
    "'https://www.subway.co.kr/menuView/sandwich?menuItemIdx=1393',\n",
    "'https://www.subway.co.kr/menuView/sandwich?menuItemIdx=1398',\n",
    "'https://www.subway.co.kr/menuView/sandwich?menuItemIdx=1394',\n",
    "'https://www.subway.co.kr/menuView/sandwich?menuItemIdx=1395',\n",
    "'https://www.subway.co.kr/menuView/sandwich?menuItemIdx=1290',\n",
    "'https://www.subway.co.kr/menuView/sandwich?menuItemIdx=1289',\n",
    "'https://www.subway.co.kr/menuView/sandwich?menuItemIdx=1286',\n",
    "'https://www.subway.co.kr/menuView/sandwich?menuItemIdx=1287',\n",
    "'https://www.subway.co.kr/menuView/sandwich?menuItemIdx=1291',\n",
    "'https://www.subway.co.kr/menuView/sandwich?menuItemIdx=1403',\n",
    "'https://www.subway.co.kr/menuView/sandwich?menuItemIdx=1471',\n",
    "'https://www.subway.co.kr/menuView/sandwich?menuItemIdx=1383',\n",
    "'https://www.subway.co.kr/menuView/sandwich?menuItemIdx=1385',\n",
    "'https://www.subway.co.kr/menuView/sandwich?menuItemIdx=1386',\n",
    "'https://www.subway.co.kr/menuView/sandwich?menuItemIdx=1387',\n",
    "'https://www.subway.co.kr/menuView/sandwich?menuItemIdx=1388',\n",
    "'https://www.subway.co.kr/menuView/sandwich?menuItemIdx=1389',\n",
    "'https://www.subway.co.kr/menuView/sandwich?menuItemIdx=1390',\n",
    "\n",
    "]\n",
    "\n",
    "# 템플릿 정의\n",
    "template = {'중량 (g)': 0, '열량 (kcal)': 0, '단백질 (g)': 0, '포화지방 (g)': 0, '당류 (g)': 0, '나트륨 (mg)': 0}\n",
    "result = {}\n",
    "\n",
    "def clean_and_convert_to_float(value):\n",
    "    # 정규식을 사용해 괄호와 괄호 안의 내용을 제거\n",
    "    cleaned_value = re.sub(r'\\(.*?\\)', '', value).strip()\n",
    "    try:\n",
    "        return float(cleaned_value)  # 숫자로 변환\n",
    "    except ValueError:\n",
    "        return 0  \n",
    "\n",
    "for url in urls:\n",
    "    response = requests.get(url)\n",
    "    soup = BeautifulSoup(response.content, 'html.parser')\n",
    "\n",
    "    # 메뉴 이름 추출\n",
    "    title = soup.select_one('h2.name')\n",
    "    if title:\n",
    "        name = title.text.strip()\n",
    "        print(name)\n",
    "    else:\n",
    "        print(f\"Title not found for URL: {url}\")\n",
    "        continue\n",
    "\n",
    "    # 영양 정보 테이블 추출\n",
    "    table = soup.select_one('table')\n",
    "    if table:\n",
    "        # 테이블 헤더와 데이터 추출\n",
    "        headers = [header.text.strip().replace(' ', '') for header in table.find_all('th')]\n",
    "        data = [cell.text.strip().split()[0] for cell in table.find_all('td')]\n",
    "\n",
    "        # 템플릿 키와 매핑하여 데이터 생성\n",
    "        nutrition_data = {}\n",
    "        for key in template.keys():\n",
    "            matching_header = key.replace(' ', '')  # 템플릿 키에서 공백 제거\n",
    "            if matching_header in headers:\n",
    "                index = headers.index(matching_header)\n",
    "                # 수정된 부분: 데이터를 클린 후 float으로 변환\n",
    "                nutrition_data[key] = clean_and_convert_to_float(data[index])\n",
    "            else:\n",
    "                nutrition_data[key] = 0  # 데이터가 없으면 기본값\n",
    "\n",
    "        # 결과 딕셔너리 생성\n",
    "        result[name] = nutrition_data\n",
    "    else:\n",
    "        print(f\"Nutrition table not found for URL: {url}\")\n",
    "\n",
    "# 결과 출력\n",
    "for k, v in result.items():\n",
    "    print(f'\"{k}\" : {v},')\n"
   ]
  },
  {
   "cell_type": "code",
   "execution_count": null,
   "metadata": {},
   "outputs": [],
   "source": [
    "import re\n",
    "\n",
    "# 데이터를 처리하는 함수\n",
    "def clean_and_convert_to_float(value):\n",
    "    # 정규식을 사용해 괄호와 괄호 안의 내용을 제거\n",
    "    cleaned_value = re.sub(r'\\(.*?\\)', '', value).strip()\n",
    "    try:\n",
    "        return float(cleaned_value)  # 숫자로 변환\n",
    "    except ValueError:\n",
    "        return 0  \n",
    "\n",
    "# 기존 데이터 처리 부분 수정\n",
    "for key in template.keys():\n",
    "    matching_header = key.replace(' ', '')  # 템플릿 키에서 공백 제거\n",
    "    if matching_header in headers:\n",
    "        index = headers.index(matching_header)\n",
    "        # 수정된 부분: 데이터를 클린 후 float으로 변환\n",
    "        nutrition_data[key] = clean_and_convert_to_float(data[index])\n",
    "    else:\n",
    "        nutrition_data[key] = 0  # 데이터가 없으면 기본값\n"
   ]
  },
  {
   "cell_type": "code",
   "execution_count": null,
   "metadata": {},
   "outputs": [
    {
     "data": {
      "text/plain": [
       "'https://www.subway.co.kr/menuList/sandwich?menuItemIdx=1389'"
      ]
     },
     "execution_count": 29,
     "metadata": {},
     "output_type": "execute_result"
    }
   ],
   "source": [
    "url"
   ]
  },
  {
   "cell_type": "markdown",
   "metadata": {},
   "source": [
    "### extarct urls"
   ]
  },
  {
   "cell_type": "code",
   "execution_count": null,
   "metadata": {},
   "outputs": [
    {
     "name": "stdout",
     "output_type": "stream",
     "text": [
      "'https://www.subway.co.kr/menuList/sandwich?menuItemIdx=1483',\n",
      "'https://www.subway.co.kr/menuList/sandwich?menuItemIdx=1486',\n",
      "'https://www.subway.co.kr/menuList/sandwich?menuItemIdx=1484',\n",
      "'https://www.subway.co.kr/menuList/sandwich?menuItemIdx=1487',\n",
      "'https://www.subway.co.kr/menuList/sandwich?menuItemIdx=1485',\n",
      "'https://www.subway.co.kr/menuList/sandwich?menuItemIdx=1488',\n",
      "'https://www.subway.co.kr/menuList/sandwich?menuItemIdx=1492',\n",
      "'https://www.subway.co.kr/menuList/sandwich?menuItemIdx=1494',\n",
      "'https://www.subway.co.kr/menuList/sandwich?menuItemIdx=1493',\n",
      "'https://www.subway.co.kr/menuList/sandwich?menuItemIdx=1469',\n",
      "'https://www.subway.co.kr/menuList/sandwich?menuItemIdx=1467',\n",
      "'https://www.subway.co.kr/menuList/sandwich?menuItemIdx=1468',\n",
      "'https://www.subway.co.kr/menuList/sandwich?menuItemIdx=1466',\n",
      "'https://www.subway.co.kr/menuList/sandwich?menuItemIdx=1391',\n",
      "'https://www.subway.co.kr/menuList/sandwich?menuItemIdx=1460',\n",
      "'https://www.subway.co.kr/menuList/sandwich?menuItemIdx=1392',\n",
      "'https://www.subway.co.kr/menuList/sandwich?menuItemIdx=1401',\n",
      "'https://www.subway.co.kr/menuList/sandwich?menuItemIdx=1406',\n",
      "'https://www.subway.co.kr/menuList/sandwich?menuItemIdx=1393',\n",
      "'https://www.subway.co.kr/menuList/sandwich?menuItemIdx=1398',\n",
      "'https://www.subway.co.kr/menuList/sandwich?menuItemIdx=1394',\n",
      "'https://www.subway.co.kr/menuList/sandwich?menuItemIdx=1395',\n",
      "'https://www.subway.co.kr/menuList/sandwich?menuItemIdx=1290',\n",
      "'https://www.subway.co.kr/menuList/sandwich?menuItemIdx=1289',\n",
      "'https://www.subway.co.kr/menuList/sandwich?menuItemIdx=1286',\n",
      "'https://www.subway.co.kr/menuList/sandwich?menuItemIdx=1287',\n",
      "'https://www.subway.co.kr/menuList/sandwich?menuItemIdx=1291',\n",
      "'https://www.subway.co.kr/menuList/sandwich?menuItemIdx=1403',\n",
      "'https://www.subway.co.kr/menuList/sandwich?menuItemIdx=1471',\n",
      "'https://www.subway.co.kr/menuList/sandwich?menuItemIdx=1383',\n",
      "'https://www.subway.co.kr/menuList/sandwich?menuItemIdx=1385',\n",
      "'https://www.subway.co.kr/menuList/sandwich?menuItemIdx=1386',\n",
      "'https://www.subway.co.kr/menuList/sandwich?menuItemIdx=1387',\n",
      "'https://www.subway.co.kr/menuList/sandwich?menuItemIdx=1388',\n",
      "'https://www.subway.co.kr/menuList/sandwich?menuItemIdx=1389',\n",
      "'https://www.subway.co.kr/menuList/sandwich?menuItemIdx=1390',\n"
     ]
    }
   ],
   "source": [
    "from bs4 import BeautifulSoup\n",
    "\n",
    "response = requests.get('https://www.subway.co.kr/menuList/sandwich')\n",
    "soup = BeautifulSoup(response.content, 'html.parser')\n",
    "\n",
    "a_tags_with_data_category = soup.find_all('a', attrs={'data-category': True})\n",
    "\n",
    "# 결과 출력\n",
    "for a_tag in a_tags_with_data_category:\n",
    "    print(f\"'https://www.subway.co.kr/menuView/sandwich?menuItemIdx={a_tag['data-menuitemidx']}',\")\n"
   ]
  },
  {
   "cell_type": "code",
   "execution_count": 18,
   "metadata": {},
   "outputs": [],
   "source": [
    "import requests\n",
    "from bs4 import BeautifulSoup\n",
    "\n",
    "for idx in range(58,59):\n",
    "    temp = requests.get(f'https://salady.com/menu/view_1?idx={idx}&ca_id=0401')\n",
    "    soup = BeautifulSoup(temp.content, 'html.parser')\n",
    "    \n",
    "    # CSS 선택자로 원하는 tr 요소 선택\n",
    "    content = soup.select('#content > div.view.type_1 > div.ingredient > div.ing_table > table > tbody > tr:nth-child(2)')\n",
    "    \n",
    "    # 추출한 내용 출력\n",
    "    for row in content:\n",
    "        print(row.get_text(strip=True))  # tr 요소의 텍스트만 출력 (공백 제거)\n"
   ]
  },
  {
   "cell_type": "markdown",
   "metadata": {},
   "source": [
    "sand - https://salady.com/menu/view_1?idx=50&ca_id=0401 -> 50~53"
   ]
  },
  {
   "cell_type": "code",
   "execution_count": 23,
   "metadata": {},
   "outputs": [
    {
     "name": "stdout",
     "output_type": "stream",
     "text": [
      "https://salady.com/menu/view_1?idx=39&ca_id=01\n",
      "https://salady.com/menu/view_1?idx=40&ca_id=01\n",
      "https://salady.com/menu/view_1?idx=41&ca_id=01\n"
     ]
    }
   ],
   "source": [
    "import requests\n",
    "from bs4 import BeautifulSoup\n",
    "\n",
    "# 영양성분 데이터를 저장할 딕셔너리\n",
    "nutrition_data = {}\n",
    "\n",
    "for idx in range(39,42):\n",
    "    url = f'https://salady.com/menu/view_1?idx={idx}&ca_id=01'  # 실제 페이지 URL\n",
    "    print(url)\n",
    "    response = requests.get(url)\n",
    "    soup = BeautifulSoup(response.content, 'html.parser')\n",
    "\n",
    "    # 영양성분표 위치에 있는 테이블을 CSS 선택자로 가져오기\n",
    "    nutrition_table = soup.select_one('div.ingredient > div.ing_table > table')\n",
    "\n",
    "    \n",
    "\n",
    "    # 테이블 데이터 파싱\n",
    "    if nutrition_table:\n",
    "        # 첫 번째 행(th 요소들)을 이용해 영양 성분 항목 추출\n",
    "        headers = [header.get_text(strip=True) for header in nutrition_table.find_all('th')]\n",
    "\n",
    "        # 두 번째 행부터 데이터 추출\n",
    "        rows = nutrition_table.find_all('tr')[1:]  # 첫 행은 헤더이므로 제외\n",
    "        for row in rows:\n",
    "            cols = row.find_all('td')\n",
    "            menu_name = cols[0].get_text(strip=True)  # 메뉴명\n",
    "            nutrition_values = [col.get_text(strip=True) for col in cols[1:]]\n",
    "            \n",
    "            # 메뉴명을 키로 하고, 영양성분 항목과 값을 매핑한 딕셔너리로 저장\n",
    "            nutrition_data[menu_name] = dict(zip(headers[1:], nutrition_values))  # 첫 번째 헤더는 메뉴명이므로 제외\n",
    "\n",
    "    else:\n",
    "        print(\"영양성분표를 찾을 수 없습니다.\")\n",
    "\n"
   ]
  },
  {
   "cell_type": "code",
   "execution_count": 24,
   "metadata": {},
   "outputs": [
    {
     "data": {
      "text/plain": [
       "{'우삼겹메밀면 샐러디': {'열량(kcal)': '300.8',\n",
       "  '탄수화물(g)': '34.9',\n",
       "  '당류(g)': '4.8',\n",
       "  '단백질(g)': '18.8',\n",
       "  '지방(g)': '10.4',\n",
       "  '포화지방(g)': '1.1',\n",
       "  '나트륨(mg)': '419.8'},\n",
       " '단호박두부 샐러디': {'열량(kcal)': '236.5',\n",
       "  '탄수화물(g)': '31.3',\n",
       "  '당류(g)': '11.9',\n",
       "  '단백질(g)': '7',\n",
       "  '지방(g)': '9.8',\n",
       "  '포화지방(g)': '1',\n",
       "  '나트륨(mg)': '317.5'},\n",
       " '콥 샐러디': {'열량(kcal)': '220.7',\n",
       "  '탄수화물(g)': '9.1',\n",
       "  '당류(g)': '2.5',\n",
       "  '단백질(g)': '18.9',\n",
       "  '지방(g)': '12.3',\n",
       "  '포화지방(g)': '3.9',\n",
       "  '나트륨(mg)': '475.7'}}"
      ]
     },
     "execution_count": 24,
     "metadata": {},
     "output_type": "execute_result"
    }
   ],
   "source": [
    "nutrition_data"
   ]
  },
  {
   "cell_type": "code",
   "execution_count": 1,
   "metadata": {},
   "outputs": [
    {
     "name": "stdout",
     "output_type": "stream",
     "text": [
      "{'우삼겹 웜랩': {'열량(kcal)': '630.3', '탄수화물(g)': '69.7', '당류(g)': '11.5', '단백질(g)': '24.7', '지방(g)': '28.8', '포화지방(g)': '5.8', '나트륨(mg)': '964.3'}}\n"
     ]
    }
   ],
   "source": [
    "import requests\n",
    "from bs4 import BeautifulSoup\n",
    "\n",
    "# 페이지 요청\n",
    "url = 'https://salady.com/menu/view_1?idx=58&ca_id=0403'  # 실제 페이지 URL\n",
    "response = requests.get(url)\n",
    "soup = BeautifulSoup(response.content, 'html.parser')\n",
    "\n",
    "# 영양성분표 위치에 있는 테이블을 CSS 선택자로 가져오기\n",
    "nutrition_table = soup.select_one('div.ingredient > div.ing_table > table')\n",
    "\n",
    "# 영양성분 데이터를 저장할 딕셔너리\n",
    "nutrition_data = {}\n",
    "\n",
    "# 테이블 데이터 파싱\n",
    "if nutrition_table:\n",
    "    # 첫 번째 행(th 요소들)을 이용해 영양 성분 항목 추출\n",
    "    headers = [header.get_text(strip=True) for header in nutrition_table.find_all('th')]\n",
    "\n",
    "    # 두 번째 행부터 데이터 추출\n",
    "    rows = nutrition_table.find_all('tr')[1:]  # 첫 행은 헤더이므로 제외\n",
    "    for row in rows:\n",
    "        cols = row.find_all('td')\n",
    "        menu_name = cols[0].get_text(strip=True)  # 메뉴명\n",
    "        nutrition_values = [col.get_text(strip=True) for col in cols[1:]]\n",
    "        \n",
    "        # 메뉴명을 키로 하고, 영양성분 항목과 값을 매핑한 딕셔너리로 저장\n",
    "        nutrition_data[menu_name] = dict(zip(headers[1:], nutrition_values))  # 첫 번째 헤더는 메뉴명이므로 제외\n",
    "\n",
    "    print(nutrition_data)\n",
    "else:\n",
    "    print(\"영양성분표를 찾을 수 없습니다.\")\n"
   ]
  },
  {
   "cell_type": "code",
   "execution_count": 3,
   "metadata": {},
   "outputs": [],
   "source": [
    "from api import nutrition_data_salady as salady\n",
    "\n",
    "data = salady.salady_nutritions"
   ]
  },
  {
   "cell_type": "code",
   "execution_count": 14,
   "metadata": {},
   "outputs": [
    {
     "name": "stdout",
     "output_type": "stream",
     "text": [
      "'양송이 크림스프' : {'열량(kcal)': '123.8', '탄수화물(g)': '8.8', '당류(g)': '3.8', '단백질(g)': '2.5', '지방(g)': '8.8', '포화지방(g)': '8.8', '나트륨(mg)': '588.8'},\n",
      "'콘치즈 스프' : {'열량(kcal)': '188.7', '탄수화물(g)': '21.1', '당류(g)': '13.3', '단백질(g)': '3.3', '지방(g)': '10.0', '포화지방(g)': '5.6', '나트륨(mg)': '555.1'},\n",
      "'단호박 크림스프' : {'열량(kcal)': '218.8', '탄수화물(g)': '21.3', '당류(g)': '15.0', '단백질(g)': '2.5', '지방(g)': '13.8', '포화지방(g)': '10.0', '나트륨(mg)': '325.0'},\n",
      "'치킨토마토 스튜' : {'열량(kcal)': '124.0', '탄수화물(g)': '12.6', '당류(g)': '9.6', '단백질(g)': '14.0', '지방(g)': '1.8', '포화지방(g)': '0.4', '나트륨(mg)': '713.2'},\n",
      "'아메리카노' : {'열량(kcal)': '22.5', '탄수화물(g)': '2.4', '당류(g)': '0.0', '단백질(g)': '1.8', '지방(g)': '0.5', '포화지방(g)': '0.0', '나트륨(mg)': '24.3'},\n",
      "'그린밀싹' : {'열량(kcal)': '120.0', '탄수화물(g)': '28.0', '당류(g)': '22.0', '단백질(g)': '1.0', '지방(g)': '0.0', '포화지방(g)': '0.0', '나트륨(mg)': '39.0'},\n",
      "'오렌지당근' : {'열량(kcal)': '113.0', '탄수화물(g)': '27.0', '당류(g)': '23.0', '단백질(g)': '1.0', '지방(g)': '0.0', '포화지방(g)': '0.0', '나트륨(mg)': '43.0'},\n",
      "'레드클렌즈' : {'열량(kcal)': '120.0', '탄수화물(g)': '29.0', '당류(g)': '24.0', '단백질(g)': '1.2', '지방(g)': '0.0', '포화지방(g)': '0.0', '나트륨(mg)': '43.0'},\n",
      "'케일바나나' : {'열량(kcal)': '119.0', '탄수화물(g)': '19.0', '당류(g)': '10.0', '단백질(g)': '3.0', '지방(g)': '5.0', '포화지방(g)': '1.0', '나트륨(mg)': '23.0'},\n",
      "'오렌지망고' : {'열량(kcal)': '105.0', '탄수화물(g)': '23.0', '당류(g)': '20.0', '단백질(g)': '2.0', '지방(g)': '0.7', '포화지방(g)': '0.0', '나트륨(mg)': '0.0'},\n",
      "'루이보스시나몬' : {'열량(kcal)': '4.0', '탄수화물(g)': '0.0', '당류(g)': '0.0', '단백질(g)': '0.0', '지방(g)': '0.0', '포화지방(g)': '0.0', '나트륨(mg)': '0.0'},\n",
      "'캐모마일레몬그라스' : {'열량(kcal)': '2.0', '탄수화물(g)': '0.0', '당류(g)': '0.0', '단백질(g)': '0.0', '지방(g)': '0.0', '포화지방(g)': '0.0', '나트륨(mg)': '0.0'},\n",
      "'닭가슴살' : {'열량(kcal)': '60.8', '탄수화물(g)': '1.1', '당류(g)': '0.3', '단백질(g)': '12.5', '지방(g)': '0.7', '포화지방(g)': '0.3', '나트륨(mg)': '88.3'},\n",
      "'그라브락스 연어' : {'열량(kcal)': '99.1', '탄수화물(g)': '1.4', '당류(g)': '0.4', '단백질(g)': '12.8', '지방(g)': '4.7', '포화지방(g)': '0.5', '나트륨(mg)': '346.6'},\n",
      "'로스트닭다리살' : {'열량(kcal)': '120.0', '탄수화물(g)': '6.0', '당류(g)': '1.2', '단백질(g)': '9.0', '지방(g)': '6.6', '포화지방(g)': '3.6', '나트륨(mg)': '324.0'},\n",
      "'머쉬룸' : {'열량(kcal)': '59.1', '탄수화물(g)': '3.3', '당류(g)': '0.4', '단백질(g)': '1.5', '지방(g)': '5.6', '포화지방(g)': '0.9', '나트륨(mg)': '1.1'},\n",
      "'메밀면' : {'열량(kcal)': '122.3', '탄수화물(g)': '22.2', '당류(g)': '0.0', '단백질(g)': '4.6', '지방(g)': '1.6', '포화지방(g)': '0.3', '나트륨(mg)': '158.8'},\n",
      "'그라운드비프' : {'열량(kcal)': '108.0', '탄수화물(g)': '0.0', '당류(g)': '0.0', '단백질(g)': '10.2', '지방(g)': '7.2', '포화지방(g)': '2.9', '나트륨(mg)': '38.4'},\n",
      "'우삼겹' : {'열량(kcal)': '60.9', '탄수화물(g)': '3.1', '당류(g)': '2.0', '단백질(g)': '9.5', '지방(g)': '0.9', '포화지방(g)': '0.0', '나트륨(mg)': '177.1'},\n",
      "'베이컨' : {'열량(kcal)': '66.3', '탄수화물(g)': '0.7', '당류(g)': '0.4', '단백질(g)': '3.0', '지방(g)': '5.7', '포화지방(g)': '2.1', '나트륨(mg)': '105.6'},\n",
      "'두부' : {'열량(kcal)': '100.0', '탄수화물(g)': '8.0', '당류(g)': '1.2', '단백질(g)': '4.2', '지방(g)': '5.7', '포화지방(g)': '0.7', '나트륨(mg)': '12.8'},\n",
      "'바질파스타' : {'열량(kcal)': '178.6', '탄수화물(g)': '21.2', '당류(g)': '1.2', '단백질(g)': '5.4', '지방(g)': '7.4', '포화지방(g)': '1.3', '나트륨(mg)': '109.9'},\n",
      "'에그' : {'열량(kcal)': '72.5', '탄수화물(g)': '0.7', '당류(g)': '0.1', '단백질(g)': '6.7', '지방(g)': '4.3', '포화지방(g)': '1.4', '나트륨(mg)': '64.0'},\n",
      "'에그마요' : {'열량(kcal)': '122.5', '탄수화물(g)': '2.5', '당류(g)': '0.0', '단백질(g)': '4.5', '지방(g)': '10.5', '포화지방(g)': '2.1', '나트륨(mg)': '140.0'},\n",
      "'스윗포테이토' : {'열량(kcal)': '126.0', '탄수화물(g)': '17.5', '당류(g)': '9.1', '단백질(g)': '1.4', '지방(g)': '5.6', '포화지방(g)': '1.0', '나트륨(mg)': '98.0'},\n",
      "'단호박' : {'열량(kcal)': '58.6', '탄수화물(g)': '12.5', '당류(g)': '7.0', '단백질(g)': '0.7', '지방(g)': '0.4', '포화지방(g)': '0.1', '나트륨(mg)': '0.1'},\n",
      "'크랜베리' : {'열량(kcal)': '31.4', '탄수화물(g)': '8.6', '당류(g)': '7.4', '단백질(g)': '0.0', '지방(g)': '0.1', '포화지방(g)': '0.0', '나트륨(mg)': '0.2'},\n",
      "'옥수수' : {'열량(kcal)': '19.5', '탄수화물(g)': '3.6', '당류(g)': '2.1', '단백질(g)': '0.6', '지방(g)': '0.3', '포화지방(g)': '0.0', '나트륨(mg)': '78.0'},\n",
      "'당근라페' : {'열량(kcal)': '25.6', '탄수화물(g)': '2.6', '당류(g)': '1.3', '단백질(g)': '0.2', '지방(g)': '1.8', '포화지방(g)': '0.0', '나트륨(mg)': '12.8'},\n",
      "'양파' : {'열량(kcal)': '8.7', '탄수화물(g)': '2.0', '당류(g)': '1.7', '단백질(g)': '0.3', '지방(g)': '0.0', '포화지방(g)': '0.0', '나트륨(mg)': '0.9'},\n",
      "'양파플레이크' : {'열량(kcal)': '55.1', '탄수화물(g)': '5.5', '당류(g)': '1.1', '단백질(g)': '0.4', '지방(g)': '3.5', '포화지방(g)': '1.7', '나트륨(mg)': '5.0'},\n",
      "'토마토' : {'열량(kcal)': '7.6', '탄수화물(g)': '1.7', '당류(g)': '0.9', '단백질(g)': '0.4', '지방(g)': '0.1', '포화지방(g)': '0.0', '나트륨(mg)': '0.8'},\n",
      "'채소볼' : {'열량(kcal)': '17.0', '탄수화물(g)': '3.6', '당류(g)': '0.3', '단백질(g)': '1.1', '지방(g)': '0.2', '포화지방(g)': '0.0', '나트륨(mg)': '81.8'},\n",
      "'나쵸칩' : {'열량(kcal)': '75.0', '탄수화물(g)': '9.2', '당류(g)': '0.0', '단백질(g)': '1.1', '지방(g)': '3.8', '포화지방(g)': '0.3', '나트륨(mg)': '34.5'},\n",
      "'곡물볼' : {'열량(kcal)': '269.3', '탄수화물(g)': '47.0', '당류(g)': '0.5', '단백질(g)': '7.2', '지방(g)': '6.2', '포화지방(g)': '1.1', '나트륨(mg)': '42.6'},\n",
      "'올리브' : {'열량(kcal)': '31.5', '탄수화물(g)': '1.8', '당류(g)': '0.0', '단백질(g)': '0.3', '지방(g)': '2.9', '포화지방(g)': '0.4', '나트륨(mg)': '264.0'},\n",
      "'베이스 변경 시*' : {'열량(kcal)': '252.3', '탄수화물(g)': '43.3', '당류(g)': '0.3', '단백질(g)': '6.1', '지방(g)': '6.0', '포화지방(g)': '1.1', '나트륨(mg)': '-39.3'},\n",
      "'견과류' : {'열량(kcal)': '89.1', '탄수화물(g)': '3.3', '당류(g)': '0.5', '단백질(g)': '3.1', '지방(g)': '7.7', '포화지방(g)': '0.7', '나트륨(mg)': '0.5'},\n",
      "'사워크림' : {'열량(kcal)': '23.2', '탄수화물(g)': '0.5', '당류(g)': '0.3', '단백질(g)': '0.3', '지방(g)': '2.2', '포화지방(g)': '1.4', '나트륨(mg)': '4.0'},\n",
      "'크리미칠리' : {'열량(kcal)': '235.0', '탄수화물(g)': '14.0', '당류(g)': '11.0', '단백질(g)': '0.0', '지방(g)': '20.0', '포화지방(g)': '3.2', '나트륨(mg)': '410.0'},\n",
      "'할라피뇨' : {'열량(kcal)': '6.7', '탄수화물(g)': '1.3', '당류(g)': '0.0', '단백질(g)': '0.0', '지방(g)': '0.0', '포화지방(g)': '0.0', '나트륨(mg)': '293.2'},\n",
      "'크리미할라피뇨' : {'열량(kcal)': '235.0', '탄수화물(g)': '7.0', '당류(g)': '7.0', '단백질(g)': '1.0', '지방(g)': '23.0', '포화지방(g)': '3.6', '나트륨(mg)': '320.0'},\n",
      "'오이' : {'열량(kcal)': '2.8', '탄수화물(g)': '0.6', '당류(g)': '0.3', '단백질(g)': '0.2', '지방(g)': '0.0', '포화지방(g)': '0.0', '나트륨(mg)': '0.6'},\n",
      "'오리엔탈' : {'열량(kcal)': '160.0', '탄수화물(g)': '8.0', '당류(g)': '7.0', '단백질(g)': '1.0', '지방(g)': '14.0', '포화지방(g)': '2.2', '나트륨(mg)': '280.0'},\n",
      "'바질페스토' : {'열량(kcal)': '119.0', '탄수화물(g)': '0.5', '당류(g)': '1.8', '단백질(g)': '2.8', '지방(g)': '10.7', '포화지방(g)': '2.0', '나트륨(mg)': '171.0'},\n",
      "'시저' : {'열량(kcal)': '240.0', '탄수화물(g)': '5.0', '당류(g)': '4.0', '단백질(g)': '1.0', '지방(g)': '24.0', '포화지방(g)': '3.9', '나트륨(mg)': '290.0'},\n",
      "'모짜렐라 슬라이스' : {'열량(kcal)': '65.0', '탄수화물(g)': '0.0', '당류(g)': '0.0', '단백질(g)': '6.3', '지방(g)': '4.5', '포화지방(g)': '2.3', '나트륨(mg)': '137.5'},\n",
      "'발사믹' : {'열량(kcal)': '135.0', '탄수화물(g)': '16.0', '당류(g)': '16.0', '단백질(g)': '0.0', '지방(g)': '8.0', '포화지방(g)': '1.2', '나트륨(mg)': '140.0'},\n",
      "'레몬' : {'열량(kcal)': '175.0', '탄수화물(g)': '14.0', '당류(g)': '14.0', '단백질(g)': '0.0', '지방(g)': '13.0', '포화지방(g)': '1.9', '나트륨(mg)': '190.0'},\n",
      "'타바스코 오리엔탈' : {'열량(kcal)': '140.0', '탄수화물(g)': '12.0', '당류(g)': '12.0', '단백질(g)': '1.0', '지방(g)': '10.0', '포화지방(g)': '1.5', '나트륨(mg)': '600.0'},\n"
     ]
    }
   ],
   "source": [
    "\n",
    "\n",
    "for k, v in data.items():\n",
    "    if '샐러디' not in k and '샌드' not in k  and '랩' not in k  and '웜볼' not in k  and '박스' not in k:\n",
    "        print(f\"'{k}' : {data[k]},\")"
   ]
  },
  {
   "cell_type": "code",
   "execution_count": 16,
   "metadata": {},
   "outputs": [
    {
     "data": {
      "text/plain": [
       "36"
      ]
     },
     "execution_count": 16,
     "metadata": {},
     "output_type": "execute_result"
    }
   ],
   "source": [
    "from api.nutrition_salady import top_dressing\n",
    "\n",
    "len(top_dressing.items())"
   ]
  },
  {
   "cell_type": "code",
   "execution_count": 2,
   "metadata": {},
   "outputs": [
    {
     "data": {
      "text/plain": [
       "{'원재료 용량(g)': '340',\n",
       " '열량(kcal)': '464.59',\n",
       " '나트륨(mg)': '698.87',\n",
       " '탄수화물(g)': '67.8',\n",
       " '당류(g)': '8.1',\n",
       " '단백질(g)': '14.36',\n",
       " '지방(g)': '15.13',\n",
       " '콜레스테롤(mg)': '2.25',\n",
       " '포화지방(g)': '3.93',\n",
       " '트랜스지방(g)': '0'}"
      ]
     },
     "execution_count": 2,
     "metadata": {},
     "output_type": "execute_result"
    }
   ],
   "source": [
    "from api.nutrition_poke import base_nutrition\n",
    "\n",
    "base_nutrition['곡물밥 POKE']"
   ]
  }
 ],
 "metadata": {
  "kernelspec": {
   "display_name": "mj_test",
   "language": "python",
   "name": "python3"
  },
  "language_info": {
   "codemirror_mode": {
    "name": "ipython",
    "version": 3
   },
   "file_extension": ".py",
   "mimetype": "text/x-python",
   "name": "python",
   "nbconvert_exporter": "python",
   "pygments_lexer": "ipython3",
   "version": "3.10.14"
  }
 },
 "nbformat": 4,
 "nbformat_minor": 2
}
