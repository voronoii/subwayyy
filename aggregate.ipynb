{
 "cells": [
  {
   "cell_type": "code",
   "execution_count": null,
   "metadata": {},
   "outputs": [],
   "source": [
    "import requests\n",
    "from bs4 import BeautifulSoup\n",
    "\n",
    "urls = [\n",
    "    'https://www.subway.co.kr/menuView/sandwich?menuItemIdx=1483',\n",
    "    'https://www.subway.co.kr/menuView/sandwich?menuItemIdx=1486',\n",
    "    'https://www.subway.co.kr/menuView/sandwich?menuItemIdx=1484',\n",
    "    'https://www.subway.co.kr/menuView/sandwich?menuItemIdx=1487',\n",
    "    'https://www.subway.co.kr/menuView/sandwich?menuItemIdx=1485',\n",
    "    'https://www.subway.co.kr/menuView/sandwich?menuItemIdx=1488'\n",
    "]\n",
    "\n",
    "for url in urls:\n",
    "    temp = requests.get(url)\n",
    "    soup = BeautifulSoup(temp.content, 'html.parser')\n",
    "    \n",
    "    # XPATH: //*[@id=\"content\"]/div/div[1]/h2\n",
    "    # 해당 XPATH는 id가 'content'인 div 안의 h2 요소를 가리키므로 아래와 같이 추출\n",
    "    title = soup.select_one('#content > div > div:nth-of-type(1) > h2')\n",
    "    \n",
    "    if title:\n",
    "        \n",
    "        text = f'''\n",
    "        <tr style=\"height: 19px;\">\n",
    "        <td style=\"height: 19px;\">{title.get_text(strip=True)}</td>\n",
    "        <td style=\"height: 19px;\">{soup.select_one('#content > div > div.hd > p.cal').text}</td>\n",
    "        </tr>\n",
    "        '''\n",
    "        print(text)\n",
    "        print()\n",
    "    else:\n",
    "        print(f\"No title found for {url}\")\n"
   ]
  }
 ],
 "metadata": {
  "language_info": {
   "name": "python"
  }
 },
 "nbformat": 4,
 "nbformat_minor": 2
}
