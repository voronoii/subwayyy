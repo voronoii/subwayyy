{
 "cells": [
  {
   "cell_type": "code",
   "execution_count": 10,
   "metadata": {},
   "outputs": [
    {
     "data": {
      "text/plain": [
       "{'weight(g)': 166,\n",
       " 'calories(kcal)': 143,\n",
       " 'protein(g)': 7.299999999999999,\n",
       " 'saturated fat(g)': 2.6,\n",
       " 'sugars(g)': 2.9000000000000004,\n",
       " 'sodium(mg)': 279}"
      ]
     },
     "execution_count": 10,
     "metadata": {},
     "output_type": "execute_result"
    }
   ],
   "source": [
    "san = {'weight(g)': 244, 'calories(kcal)': 335, 'protein(g)': 15.7, 'saturated fat(g)': 3.1, 'sugars(g)': 7.9, 'sodium(mg)': 536}\n",
    "bread = {'weight(g)': 78, 'calories(kcal)': 192, 'protein(g)': 8.4, 'saturated fat(g)': 0.5, 'sugars(g)': 5, 'sodium(mg)': 257}\n",
    "\n",
    "\n",
    "for key in san.keys():\n",
    "    san[key] = (san[key]-(bread[key]))\n",
    "    \n",
    "san\n"
   ]
  },
  {
   "cell_type": "code",
   "execution_count": null,
   "metadata": {},
   "outputs": [],
   "source": [
    "\n",
    "중량(g)\t열량(kcal)\t단백질(g)\t포화지방(g)\t당류(g)\t나트륨(mg)\n",
    "244\t335\t15.7(29%)\t3.1(21%)\t7.9\t536(27%)"
   ]
  }
 ],
 "metadata": {
  "kernelspec": {
   "display_name": "mj_vaiv_search",
   "language": "python",
   "name": "python3"
  },
  "language_info": {
   "codemirror_mode": {
    "name": "ipython",
    "version": 3
   },
   "file_extension": ".py",
   "mimetype": "text/x-python",
   "name": "python",
   "nbconvert_exporter": "python",
   "pygments_lexer": "ipython3",
   "version": "3.9.18"
  }
 },
 "nbformat": 4,
 "nbformat_minor": 2
}
